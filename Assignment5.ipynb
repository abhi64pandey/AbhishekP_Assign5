{
 "cells": [
  {
   "cell_type": "code",
   "execution_count": null,
   "id": "75c2f2ca",
   "metadata": {},
   "outputs": [],
   "source": [
    "Q1: What does an empty dictionary's code look like?\n",
    "    \n",
    "Solution:\n",
    "    \n",
    "Two curly brackets: {}"
   ]
  },
  {
   "cell_type": "code",
   "execution_count": null,
   "id": "50b81554",
   "metadata": {},
   "outputs": [],
   "source": [
    "Q2: What is the value of a dictionary value with the key 'foo' and the value 42?\n",
    "    \n",
    "Solution:\n",
    "    \n",
    "{'foo': 42}"
   ]
  },
  {
   "cell_type": "code",
   "execution_count": null,
   "id": "4242eab9",
   "metadata": {},
   "outputs": [],
   "source": [
    "Q3: What is the most significant distinction between a dictionary and a list?\n",
    "    \n",
    "Solution:\n",
    "    \n",
    "The items stored in a dictionary are unordered, while the items in a list are ordered."
   ]
  },
  {
   "cell_type": "code",
   "execution_count": null,
   "id": "7fcec9e7",
   "metadata": {},
   "outputs": [],
   "source": [
    "Q4: What happens if you try to access spam['foo'] if spam is {'bar': 100}?\n",
    "\n",
    "Solution:\n",
    "    \n",
    "You get a KeyError error."
   ]
  },
  {
   "cell_type": "code",
   "execution_count": null,
   "id": "f9a800dc",
   "metadata": {},
   "outputs": [],
   "source": [
    "Q5: If a dictionary is stored in spam, \n",
    "    what is the difference between the expressions 'cat' in spam and 'cat' in spam.keys()?\n",
    "    \n",
    "Solution:\n",
    "\n",
    "There is no difference.The in operator checks whether a value exists as a key in the dictionary."
   ]
  },
  {
   "cell_type": "code",
   "execution_count": null,
   "id": "8ebf6778",
   "metadata": {},
   "outputs": [],
   "source": [
    "Q6: If a dictionary is stored in spam, \n",
    "    what is the difference between the expressions 'cat' in spam and 'cat' in spam.values()?\n",
    "    \n",
    "Solution:\n",
    "    \n",
    "The 'cat' in spam checks whether there is a 'cat' key in the dictionary, \n",
    "while 'cat' in spam.values() checks whether there is a value 'cat' for one of the keys in spam."
   ]
  },
  {
   "cell_type": "code",
   "execution_count": null,
   "id": "711df489",
   "metadata": {},
   "outputs": [],
   "source": [
    "Q7: What is a shortcut for the following code?\n",
    "    if 'color' not in spam:\n",
    "    spam['color'] = 'black'\n",
    "\n",
    "Solution:\n",
    "    \n",
    "spam.setdefault('color', 'black')"
   ]
  },
  {
   "cell_type": "code",
   "execution_count": null,
   "id": "80492c27",
   "metadata": {},
   "outputs": [],
   "source": [
    "Q8: How do you \"pretty print\" dictionary values using which module and function?\n",
    "    \n",
    "Solution:\n",
    "    \n",
    "pprint.pprint()"
   ]
  }
 ],
 "metadata": {
  "kernelspec": {
   "display_name": "Python 3 (ipykernel)",
   "language": "python",
   "name": "python3"
  },
  "language_info": {
   "codemirror_mode": {
    "name": "ipython",
    "version": 3
   },
   "file_extension": ".py",
   "mimetype": "text/x-python",
   "name": "python",
   "nbconvert_exporter": "python",
   "pygments_lexer": "ipython3",
   "version": "3.9.7"
  }
 },
 "nbformat": 4,
 "nbformat_minor": 5
}
